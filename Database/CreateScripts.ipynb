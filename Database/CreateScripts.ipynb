{
    "cells": [
        {
            "attachments": {},
            "cell_type": "markdown",
            "metadata": {
                "azdata_cell_guid": "724b9b1d-8138-4744-90fa-815f09053bde"
            },
            "source": [
                "Create Database"
            ]
        },
        {
            "cell_type": "code",
            "execution_count": null,
            "metadata": {
                "azdata_cell_guid": "e46161b7-7808-4dec-8cba-ff42bf1b722d"
            },
            "outputs": [],
            "source": [
                "CREATE DATABASE Games"
            ]
        },
        {
            "attachments": {},
            "cell_type": "markdown",
            "metadata": {
                "azdata_cell_guid": "a7813e43-d03a-4307-b08d-d65ecb1a90f4"
            },
            "source": [
                "Create Tables"
            ]
        },
        {
            "cell_type": "code",
            "execution_count": null,
            "metadata": {
                "azdata_cell_guid": "d811109b-6c4e-4f3f-b110-fa1abf02030c",
                "tags": [
                    "hide_input"
                ]
            },
            "outputs": [],
            "source": [
                "CREATE TABLE Game (\n",
                "    id INT NOT NULL,\n",
                "    homeTeamName VARCHAR(MAX) NOT NULL,\n",
                "    awayTeamName VARCHAR(MAX) NOT NULL,\n",
                "    seasonStartYear INT NOT NULL,\n",
                "    gameDate DATETIME2 NOT NULL,\n",
                "    homeGoals INT NOT NULL,\n",
                "    awayGoals INT NOT NULL,\n",
                "    winner INT NOT NULL,\n",
                "    homeSOG INT NOT NULL,\n",
                "    awaySOG INT NOT NULL,\n",
                "    homePPG DECIMAL(4, 1) NOT NULL,\n",
                "    awayPPG DECIMAL(4, 1) NOT NULL,\n",
                "    homePIM INT NOT NULL,\n",
                "    awayPIM INT NOT NULL,\n",
                "    homeFaceOffWinPercent DECIMAL(4, 1) NOT NULL,\n",
                "    awayFaceOffWinPercent DECIMAL(4, 1) NOT NULL,\n",
                "    homeBlockedShots INT NOT NULL,\n",
                "    awayBlockedShots INT NOT NULL,\n",
                "    homeHits INT NOT NULL,\n",
                "    awayHits INT NOT NULL,\n",
                "    homeTakeaways INT NOT NULL,\n",
                "    awayTakeaways INT NOT NULL,\n",
                "    homeGiveaways INT NOT NULL,\n",
                "    awayGiveaways INT NOT NULL,\n",
                "    PRIMARY KEY(id),\n",
                ");"
            ]
        },
        {
            "attachments": {},
            "cell_type": "markdown",
            "metadata": {
                "azdata_cell_guid": "6e981d31-781a-4067-ac68-906035c87436"
            },
            "source": [
                "Create Stored Procedures"
            ]
        },
        {
            "cell_type": "code",
            "execution_count": null,
            "metadata": {},
            "outputs": [],
            "source": [
                "CREATE PROCEDURE [dbo].[InsertGame]\n",
                "(\n",
                "    @id INT,\n",
                "    @homeTeamName VARCHAR(MAX),\n",
                "    @awayTeamName VARCHAR(MAX),\n",
                "    @seasonStartYear INT,\n",
                "    @gameDate DATETIME2,\n",
                "    @homeGoals INT,\n",
                "    @awayGoals INT,\n",
                "    @winner INT,\n",
                "    @homeSOG INT,\n",
                "    @awaySOG INT,\n",
                "    @homePPG DECIMAL,\n",
                "    @awayPPG DECIMAL,\n",
                "    @homePIM INT,\n",
                "    @awayPIM INT,\n",
                "    @homeFaceOffWinPercent DECIMAL,\n",
                "    @awayFaceOffWinPercent DECIMAL,\n",
                "    @homeBlockedShots INT,\n",
                "    @awayBlockedShots INT,\n",
                "    @homeHits INT,\n",
                "    @awayHits INT,\n",
                "    @homeTakeaways INT,\n",
                "    @awayTakeaways INT,\n",
                "    @homeGiveaways INT,\n",
                "    @awayGiveaways INT\n",
                ")\n",
                "AS\n",
                "    BEGIN\n",
                "        INSERT INTO Game\n",
                "        (\n",
                "            id,\n",
                "            homeTeamName,\n",
                "            awayTeamName,\n",
                "            seasonStartYear,\n",
                "            gameDate,\n",
                "            homeGoals,\n",
                "            awayGoals,\n",
                "            winner,\n",
                "            homeSOG,\n",
                "            awaySOG,\n",
                "            homePPG,\n",
                "            awayPPG,\n",
                "            homePIM,\n",
                "            awayPIM,\n",
                "            homeFaceOffWinPercent,\n",
                "            awayFaceOffWinPercent,\n",
                "            homeBlockedShots,\n",
                "            awayBlockedShots,\n",
                "            homeHits,\n",
                "            awayHits,\n",
                "            homeTakeaways,\n",
                "            awayTakeaways,\n",
                "            homeGiveaways,\n",
                "            awayGiveaways\n",
                "        )\n",
                "        VALUES\n",
                "        (\n",
                "            @id,\n",
                "            @homeTeamName,\n",
                "            @awayTeamName,\n",
                "            @seasonStartYear,\n",
                "            @gameDate,\n",
                "            @homeGoals,\n",
                "            @awayGoals,\n",
                "            @winner,\n",
                "            @homeSOG,\n",
                "            @awaySOG,\n",
                "            @homePPG,\n",
                "            @awayPPG,\n",
                "            @homePIM,\n",
                "            @awayPIM,\n",
                "            @homeFaceOffWinPercent,\n",
                "            @awayFaceOffWinPercent,\n",
                "            @homeBlockedShots,\n",
                "            @awayBlockedShots,\n",
                "            @homeHits,\n",
                "            @awayHits,\n",
                "            @homeTakeaways,\n",
                "            @awayTakeaways,\n",
                "            @homeGiveaways,\n",
                "            @awayGiveaways\n",
                "        )\n",
                "    END"
            ]
        },
        {
            "cell_type": "code",
            "execution_count": null,
            "metadata": {
                "azdata_cell_guid": "071ebb4e-fa18-460e-a7d8-cefd99ff50e4",
                "tags": [
                    "hide_input"
                ]
            },
            "outputs": [],
            "source": [
                "CREATE PROCEDURE [dbo].[GetGames]  \n",
                "AS  \n",
                "   BEGIN  \n",
                "   SELECT \n",
                "    id,\n",
                "    homeTeamName,\n",
                "    awayTeamName,\n",
                "    seasonStartYear,\n",
                "    gameDate,\n",
                "    homeGoals,\n",
                "    awayGoals,\n",
                "    winner,\n",
                "    homeSOG,\n",
                "    awaySOG,\n",
                "    homePPG,\n",
                "    awayPPG,\n",
                "    homePIM,\n",
                "    awayPIM,\n",
                "    homeFaceOffWinPercent,\n",
                "    awayFaceOffWinPercent,\n",
                "    homeBlockedShots,\n",
                "    awayBlockedShots,\n",
                "    homeHits,\n",
                "    awayHits,\n",
                "    homeTakeaways,\n",
                "    awayTakeaways,\n",
                "    homeGiveaways,\n",
                "    awayGiveaways\n",
                "\n",
                "   FROM Game\n",
                "END"
            ]
        }
    ],
    "metadata": {
        "kernelspec": {
            "display_name": "SQL",
            "language": "sql",
            "name": "SQL"
        },
        "language_info": {
            "name": "sql",
            "version": ""
        }
    },
    "nbformat": 4,
    "nbformat_minor": 2
}
