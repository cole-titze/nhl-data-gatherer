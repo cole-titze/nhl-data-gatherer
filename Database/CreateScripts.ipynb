{
    "metadata": {
        "kernelspec": {
            "name": "SQL",
            "display_name": "SQL",
            "language": "sql"
        },
        "language_info": {
            "name": "sql",
            "version": ""
        }
    },
    "nbformat_minor": 2,
    "nbformat": 4,
    "cells": [
        {
            "cell_type": "markdown",
            "source": [
                "Create Database"
            ],
            "metadata": {
                "azdata_cell_guid": "724b9b1d-8138-4744-90fa-815f09053bde"
            },
            "attachments": {}
        },
        {
            "cell_type": "code",
            "source": [
                "CREATE DATABASE Games"
            ],
            "metadata": {
                "azdata_cell_guid": "e46161b7-7808-4dec-8cba-ff42bf1b722d"
            },
            "outputs": [],
            "execution_count": null
        },
        {
            "cell_type": "markdown",
            "source": [
                "Create Tables"
            ],
            "metadata": {
                "azdata_cell_guid": "a7813e43-d03a-4307-b08d-d65ecb1a90f4"
            },
            "attachments": {}
        },
        {
            "cell_type": "code",
            "source": [
                "CREATE TABLE Game (\n",
                "    id INT NOT NULL,\n",
                "    homeTeamName VARCHAR(MAX) NOT NULL,\n",
                "    awayTeamName VARCHAR(MAX) NOT NULL,\n",
                "    seasonStartYear INT NOT NULL,\n",
                "    gameDate DATETIME2 NOT NULL,\n",
                "    homeGoals INT NOT NULL,\n",
                "    awayGoals INT NOT NULL,\n",
                "    winner INT NOT NULL,\n",
                "    homeSOG INT NOT NULL,\n",
                "    awaySOG INT NOT NULL,\n",
                "    homePPG DECIMAL NOT NULL,\n",
                "    awayPPG DECIMAL NOT NULL,\n",
                "    homePIM INT NOT NULL,\n",
                "    awayPIM INT NOT NULL,\n",
                "    homeFaceOffWinPercent DECIMAL NOT NULL,\n",
                "    awayFaceOffWinPercent DECIMAL NOT NULL,\n",
                "    homeBlockedShots INT NOT NULL,\n",
                "    awayBlockedShots INT NOT NULL,\n",
                "    homeHits INT NOT NULL,\n",
                "    awayHits INT NOT NULL,\n",
                "    homeTakeaways INT NOT NULL,\n",
                "    awayTakeaways INT NOT NULL,\n",
                "    homeGiveaways INT NOT NULL,\n",
                "    awayGiveaways INT NOT NULL,\n",
                "    PRIMARY KEY(id),\n",
                ");"
            ],
            "metadata": {
                "azdata_cell_guid": "d811109b-6c4e-4f3f-b110-fa1abf02030c",
                "tags": [
                    "hide_input"
                ]
            },
            "outputs": [],
            "execution_count": null
        },
        {
            "cell_type": "markdown",
            "source": [
                "Create Stored Procedures"
            ],
            "metadata": {
                "azdata_cell_guid": "6e981d31-781a-4067-ac68-906035c87436"
            },
            "attachments": {}
        },
        {
            "cell_type": "code",
            "source": [
                "CREATE PROCEDURE [dbo].[GET_ALL_GAMES]  \n",
                "AS  \n",
                "   BEGIN  \n",
                "   SELECT \n",
                "    id,\n",
                "    homeTeamName,\n",
                "    awayTeamName,\n",
                "    seasonStartYear,\n",
                "    gameDate,\n",
                "    homeGoals,\n",
                "    awayGoals,\n",
                "    winner,\n",
                "    homeSOG,\n",
                "    awaySOG,\n",
                "    homePPG,\n",
                "    awayPPG,\n",
                "    homePIM,\n",
                "    awayPIM,\n",
                "    homeFaceOffWinPercent,\n",
                "    awayFaceOffWinPercent,\n",
                "    homeBlockedShots,\n",
                "    awayBlockedShots,\n",
                "    homeHits,\n",
                "    awayHits,\n",
                "    homeTakeaways,\n",
                "    awayTakeaways,\n",
                "    homeGiveaways,\n",
                "    awayGiveaways\n",
                "\n",
                "   FROM Game\n",
                "END"
            ],
            "metadata": {
                "azdata_cell_guid": "071ebb4e-fa18-460e-a7d8-cefd99ff50e4",
                "tags": [
                    "hide_input"
                ]
            },
            "outputs": [],
            "execution_count": null
        }
    ]
}