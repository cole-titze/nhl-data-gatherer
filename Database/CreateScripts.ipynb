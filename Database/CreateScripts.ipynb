{
    "cells": [
        {
            "attachments": {},
            "cell_type": "markdown",
            "metadata": {
                "azdata_cell_guid": "724b9b1d-8138-4744-90fa-815f09053bde"
            },
            "source": [
                "Create Database"
            ]
        },
        {
            "cell_type": "code",
            "execution_count": null,
            "metadata": {
                "azdata_cell_guid": "e46161b7-7808-4dec-8cba-ff42bf1b722d"
            },
            "outputs": [],
            "source": [
                "CREATE DATABASE Games"
            ]
        },
        {
            "attachments": {},
            "cell_type": "markdown",
            "metadata": {
                "azdata_cell_guid": "a7813e43-d03a-4307-b08d-d65ecb1a90f4"
            },
            "source": [
                "Create Tables"
            ]
        },
        {
            "cell_type": "code",
            "execution_count": null,
            "metadata": {
                "azdata_cell_guid": "d811109b-6c4e-4f3f-b110-fa1abf02030c",
                "tags": [
                    "hide_input"
                ]
            },
            "outputs": [],
            "source": [
                "CREATE TABLE Game (\n",
                "    id INT NOT NULL,\n",
                "    homeTeamName VARCHAR(MAX) NOT NULL,\n",
                "    awayTeamName VARCHAR(MAX) NOT NULL,\n",
                "    seasonStartYear INT NOT NULL,\n",
                "    gameDate DATETIME2 NOT NULL,\n",
                "    homeGoals INT NOT NULL,\n",
                "    awayGoals INT NOT NULL,\n",
                "    winner INT NOT NULL,\n",
                "    homeSOG INT NOT NULL,\n",
                "    awaySOG INT NOT NULL,\n",
                "    homePPG INT NOT NULL,\n",
                "    awayPPG INT NOT NULL,\n",
                "    homePIM INT NOT NULL,\n",
                "    awayPIM INT NOT NULL,\n",
                "    homeFaceOffWinPercent DECIMAL(4, 1) NOT NULL,\n",
                "    awayFaceOffWinPercent DECIMAL(4, 1) NOT NULL,\n",
                "    homeBlockedShots INT NOT NULL,\n",
                "    awayBlockedShots INT NOT NULL,\n",
                "    homeHits INT NOT NULL,\n",
                "    awayHits INT NOT NULL,\n",
                "    homeTakeaways INT NOT NULL,\n",
                "    awayTakeaways INT NOT NULL,\n",
                "    homeGiveaways INT NOT NULL,\n",
                "    awayGiveaways INT NOT NULL,\n",
                "    PRIMARY KEY(id),\n",
                ");"
            ]
        }
    ],
    "metadata": {
        "kernelspec": {
            "display_name": "SQL",
            "language": "sql",
            "name": "SQL"
        },
        "language_info": {
            "name": "sql",
            "version": ""
        }
    },
    "nbformat": 4,
    "nbformat_minor": 2
}
