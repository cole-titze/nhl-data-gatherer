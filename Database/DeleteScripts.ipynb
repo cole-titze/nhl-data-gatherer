{
    "metadata": {
        "kernelspec": {
            "name": "SQL",
            "display_name": "SQL",
            "language": "sql"
        },
        "language_info": {
            "name": "sql",
            "version": ""
        }
    },
    "nbformat_minor": 2,
    "nbformat": 4,
    "cells": [
        {
            "cell_type": "markdown",
            "source": [
                "Delete Database"
            ],
            "metadata": {
                "azdata_cell_guid": "8372d774-e2b5-4b6a-bcfa-7b7fcc5bd37b"
            },
            "attachments": {}
        },
        {
            "cell_type": "code",
            "source": [
                "USE master;\n",
                "GO\n",
                "\n",
                "ALTER DATABASE Games SET SINGLE_USER WITH ROLLBACK IMMEDIATE;\n",
                "GO\n",
                "DROP DATABASE Games;\n",
                "GO"
            ],
            "metadata": {
                "azdata_cell_guid": "9046ca71-8e17-4c13-a215-adf08992f1be",
                "tags": [
                    "hide_input"
                ]
            },
            "outputs": [],
            "execution_count": null
        }
    ]
}